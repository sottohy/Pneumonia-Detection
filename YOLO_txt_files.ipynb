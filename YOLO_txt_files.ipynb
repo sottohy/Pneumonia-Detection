{
  "nbformat": 4,
  "nbformat_minor": 0,
  "metadata": {
    "colab": {
      "provenance": [],
      "include_colab_link": true
    },
    "kernelspec": {
      "name": "python3",
      "display_name": "Python 3"
    },
    "language_info": {
      "name": "python"
    }
  },
  "cells": [
    {
      "cell_type": "markdown",
      "metadata": {
        "id": "view-in-github",
        "colab_type": "text"
      },
      "source": [
        "<a href=\"https://colab.research.google.com/github/sottohy/YOLO/blob/main/YOLO_txt_files.ipynb\" target=\"_parent\"><img src=\"https://colab.research.google.com/assets/colab-badge.svg\" alt=\"Open In Colab\"/></a>"
      ]
    },
    {
      "cell_type": "code",
      "execution_count": null,
      "metadata": {
        "id": "w0FQYsyXLl3n"
      },
      "outputs": [],
      "source": [
        "import os\n",
        "import pandas as pd\n"
      ]
    },
    {
      "cell_type": "code",
      "source": [
        "# Main directory\n",
        "directory = '/content/drive/MyDrive/study/Output'\n",
        "train_images = '/content/drive/MyDrive/study/Output/train'\n",
        "\n",
        "# Loading CSV file\n",
        "csv_file = os.path.join(directory, 'train_labels.csv')\n",
        "df = pd.read_csv(csv_file)\n",
        "\n",
        "# We will create bounding boxes where the target is 1\n",
        "df_target_1 = df[df['Target'] == 1]\n",
        "\n",
        "# Create empty text files where the target is 0\n",
        "df_target_0 = df[df['Target'] == 0]"
      ],
      "metadata": {
        "id": "YQxkWUlmNWIq"
      },
      "execution_count": null,
      "outputs": []
    },
    {
      "cell_type": "code",
      "source": [
        "# Creating txt files for each image\n",
        "\n",
        "# Loop over each jpg image in train_images\n",
        "for filename in os.listdir(train_images):\n",
        "    if filename.endswith('.jpg'):\n",
        "\n",
        "        # Get the patientId from the image filename\n",
        "        patient_id = os.path.splitext(filename)[0]\n",
        "\n",
        "        # Find the patientId in the dataframe for target=1\n",
        "        rows_target_1 = df_target_1[df_target_1['patientId'] == patient_id]\n",
        "\n",
        "        if not rows_target_1.empty:\n",
        "            # Create txt file with bounding box data\n",
        "            txt_filename = os.path.join(train_images, f\"{patient_id}.txt\")\n",
        "            with open(txt_filename, 'w') as txt_file:\n",
        "                for _, row in rows_target_1.iterrows():\n",
        "                    # Target, x, y, width, height\n",
        "                    target = row['Target']\n",
        "                    x = row['x']\n",
        "                    y = row['y']\n",
        "                    width = row['width']\n",
        "                    height = row['height']\n",
        "\n",
        "                    # Content for the txt file (in that order)\n",
        "                    content = f\"{target} {x} {y} {width} {height}\\n\"\n",
        "                    txt_file.write(content)\n",
        "\n",
        "        # Find the patientId in the dataframe for target=0\n",
        "        rows_target_0 = df_target_0[df_target_0['patientId'] == patient_id]\n",
        "\n",
        "        if not rows_target_0.empty:\n",
        "            # Create empty txt file\n",
        "            txt_filename = os.path.join(train_images, f\"{patient_id}.txt\")\n",
        "            with open(txt_filename, 'w') as txt_file:\n",
        "                pass  # Create an empty file"
      ],
      "metadata": {
        "id": "XWPT1oCCNoCG"
      },
      "execution_count": null,
      "outputs": []
    },
    {
      "cell_type": "code",
      "source": [
        "# Creating train.txt and test.txt\n",
        "\n",
        "test_images = '/content/drive/MyDrive/study/Output/test'\n",
        "\n",
        "# Function to write image paths to a text file\n",
        "def write_image_paths_to_file(image_dir, output_file):\n",
        "    with open(output_file, 'w') as file:\n",
        "        for filename in os.listdir(image_dir):\n",
        "            if filename.endswith('.jpg'):\n",
        "                file.write(os.path.join(image_dir, filename) + '\\n')\n",
        "\n",
        "# Create train.txt\n",
        "train_txt_path = os.path.join(directory, 'train.txt')\n",
        "write_image_paths_to_file(train_images, train_txt_path)\n",
        "\n",
        "# Create test.txt\n",
        "test_txt_path = os.path.join(directory, 'test.txt')\n",
        "write_image_paths_to_file(test_images, test_txt_path)\n"
      ],
      "metadata": {
        "id": "lT0TbaxbWLj5"
      },
      "execution_count": null,
      "outputs": []
    },
    {
      "cell_type": "code",
      "source": [
        "# Creating classes.names\n",
        "\n",
        "class_names = [\"Pneumonia\", \"Normal\"]\n",
        "\n",
        "# Create classes.names file\n",
        "names_file_path = os.path.join(directory, 'classes.names')\n",
        "with open(names_file_path, 'w') as file:\n",
        "    for name in class_names:\n",
        "        file.write(name + '\\n')\n"
      ],
      "metadata": {
        "id": "E8mReIwPZjE2"
      },
      "execution_count": null,
      "outputs": []
    },
    {
      "cell_type": "code",
      "source": [
        "# Creating image_data.data\n",
        "\n",
        "# Paths for the obj.data file\n",
        "names_file = os.path.join(directory, 'classes.names')\n",
        "backup_directory = os.path.join(directory, 'backup')\n",
        "\n",
        "# Create image_data.data file\n",
        "obj_data_path = os.path.join(directory, 'image_data.data')\n",
        "with open(obj_data_path, 'w') as file:\n",
        "    file.write(f\"classes = 2\\n\")\n",
        "    file.write(f\"train = {train_txt_path}\\n\")\n",
        "    file.write(f\"valid = {test_txt_path}\\n\")\n",
        "    file.write(f\"names = {names_file}\\n\")\n",
        "    file.write(f\"backup = {backup_directory}\\n\")"
      ],
      "metadata": {
        "id": "zYZ8TZH2ZF-_"
      },
      "execution_count": null,
      "outputs": []
    }
  ]
}